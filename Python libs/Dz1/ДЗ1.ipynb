{
 "cells": [
  {
   "cell_type": "markdown",
   "metadata": {},
   "source": [
    "Задача 1."
   ]
  },
  {
   "cell_type": "code",
   "execution_count": 19,
   "metadata": {},
   "outputs": [
    {
     "name": "stdout",
     "output_type": "stream",
     "text": [
      "Процент элементов в векторе, больших 7: 22.0%\n"
     ]
    }
   ],
   "source": [
    "import numpy as np\n",
    "\n",
    "# Создание вектора из 100 случайных чисел от 1 до 10(включительно)\n",
    "arr = np.random.randint(1, 11, size=100)\n",
    "\n",
    "# Подсчет процента элементов больше 7\n",
    "greater_than_7 = np.mean(arr > 7) * 100\n",
    "print(f\"Процент элементов в векторе, больших 7: {greater_than_7}%\")"
   ]
  },
  {
   "cell_type": "markdown",
   "metadata": {},
   "source": [
    "Задача 2."
   ]
  },
  {
   "cell_type": "code",
   "execution_count": 43,
   "metadata": {},
   "outputs": [
    {
     "name": "stdout",
     "output_type": "stream",
     "text": [
      "Часть результатов, равных 20%: 0.009\n"
     ]
    }
   ],
   "source": [
    "import numpy as np\n",
    "\n",
    "# Опыт из предыдущей задачи 1000 раз\n",
    "results = []\n",
    "cycles = 1000\n",
    "\n",
    "for _ in range(cycles):\n",
    "    arr = np.random.randint(1, 11, size=100)\n",
    "    percentage = np.mean(arr > 7) * 100\n",
    "    results.append(percentage)\n",
    "\n",
    "# Подсчет количества результатов, равных 20%\n",
    "count_equal_to_20 = np.sum(np.array(results) == 20)\n",
    "print(f\"Часть результатов, равных 20%: {count_equal_to_20 / cycles}\")"
   ]
  },
  {
   "cell_type": "markdown",
   "metadata": {},
   "source": [
    "Задача 3."
   ]
  },
  {
   "cell_type": "code",
   "execution_count": 44,
   "metadata": {},
   "outputs": [
    {
     "name": "stdout",
     "output_type": "stream",
     "text": [
      "[[ 1  2  3  4  5  6  7  8  9 10]\n",
      " [ 1  2  3  4  5  6  7  8  9 10]\n",
      " [ 1  2  3  4  5  6  7  8  9 10]\n",
      " [ 1  2  3  4  5  6  7  8  9 10]\n",
      " [ 1  2  3  4  5  6  7  8  9 10]\n",
      " [ 1  2  3  4  5  6  7  8  9 10]\n",
      " [ 1  2  3  4  5  6  7  8  9 10]\n",
      " [ 1  2  3  4  5  6  7  8  9 10]\n",
      " [ 1  2  3  4  5  6  7  8  9 10]\n",
      " [ 1  2  3  4  5  6  7  8  9 10]]\n"
     ]
    }
   ],
   "source": [
    "import numpy as np\n",
    "\n",
    "# Создание матрицы 10x10\n",
    "matrix = np.tile(np.arange(1, 11), (10, 1))\n",
    "print(matrix)"
   ]
  },
  {
   "cell_type": "markdown",
   "metadata": {},
   "source": [
    "Задача 4."
   ]
  },
  {
   "cell_type": "code",
   "execution_count": 45,
   "metadata": {},
   "outputs": [
    {
     "name": "stdout",
     "output_type": "stream",
     "text": [
      "[ 10  20  30  40  50  60  70  80  90 100]\n"
     ]
    }
   ],
   "source": [
    "import numpy as np\n",
    "\n",
    "# Создание матрицы 10x10\n",
    "matrix = np.tile(np.arange(1, 11), (10, 1))\n",
    "\n",
    "# Нахождение суммы элементов в каждом столбце\n",
    "sums = np.sum(matrix, axis=0)\n",
    "print(sums)"
   ]
  }
 ],
 "metadata": {
  "kernelspec": {
   "display_name": "Python 3",
   "language": "python",
   "name": "python3"
  },
  "language_info": {
   "codemirror_mode": {
    "name": "ipython",
    "version": 3
   },
   "file_extension": ".py",
   "mimetype": "text/x-python",
   "name": "python",
   "nbconvert_exporter": "python",
   "pygments_lexer": "ipython3",
   "version": "3.12.0"
  }
 },
 "nbformat": 4,
 "nbformat_minor": 2
}
