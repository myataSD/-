{
 "cells": [
  {
   "cell_type": "markdown",
   "metadata": {},
   "source": [
    "Задание 2."
   ]
  },
  {
   "cell_type": "code",
   "execution_count": 11,
   "metadata": {},
   "outputs": [
    {
     "name": "stdout",
     "output_type": "stream",
     "text": [
      "CustomerID                 0\n",
      "Gender                     0\n",
      "Age                        0\n",
      "Income                     0\n",
      "Spending Score (1-100)     0\n",
      "Profession                35\n",
      "Work Experience            0\n",
      "Family Size                0\n",
      "dtype: int64\n",
      "CustomerID                0\n",
      "Gender                    0\n",
      "Age                       0\n",
      "Income                    0\n",
      "Spending Score (1-100)    0\n",
      "Profession                0\n",
      "Work Experience           0\n",
      "Family Size               0\n",
      "dtype: int64\n"
     ]
    }
   ],
   "source": [
    "import pandas as pd\n",
    "\n",
    "def missing_data(data):\n",
    "    mis_data =  data.isnull().sum()\n",
    "    return mis_data\n",
    "\n",
    "data = pd.read_csv('data.csv', sep=';')\n",
    "\n",
    "print(missing_data(data))\n",
    "\n",
    "data['Profession'].fillna('Неизвестно', inplace=True)\n",
    "\n",
    "print(missing_data(data))"
   ]
  },
  {
   "cell_type": "markdown",
   "metadata": {},
   "source": [
    "Задание 3."
   ]
  },
  {
   "cell_type": "code",
   "execution_count": 13,
   "metadata": {},
   "outputs": [
    {
     "name": "stdout",
     "output_type": "stream",
     "text": [
      "Profession\n",
      "Artist           108776.580065\n",
      "Doctor           111573.217391\n",
      "Engineer         111161.240223\n",
      "Entertainment    110650.333333\n",
      "Executive        113770.130719\n",
      "Healthcare       112574.041298\n",
      "Homemaker        108758.616667\n",
      "Lawyer           110995.838028\n",
      "Marketing        107994.211765\n",
      "Name: Income, dtype: float64\n"
     ]
    }
   ],
   "source": [
    "import pandas as pd\n",
    "\n",
    "data = pd.read_csv('data.csv', sep=';')\n",
    "\n",
    "average_income_by_profession = data.groupby('Profession')['Income'].mean()\n",
    "print(average_income_by_profession)"
   ]
  }
 ],
 "metadata": {
  "kernelspec": {
   "display_name": "Python 3",
   "language": "python",
   "name": "python3"
  },
  "language_info": {
   "codemirror_mode": {
    "name": "ipython",
    "version": 3
   },
   "file_extension": ".py",
   "mimetype": "text/x-python",
   "name": "python",
   "nbconvert_exporter": "python",
   "pygments_lexer": "ipython3",
   "version": "3.12.1"
  }
 },
 "nbformat": 4,
 "nbformat_minor": 2
}
